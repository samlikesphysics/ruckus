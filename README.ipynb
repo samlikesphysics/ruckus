{
 "cells": [
  {
   "cell_type": "markdown",
   "metadata": {},
   "source": [
    "# `ruckus` is a package for building networks of reproducing kernel Hilbert spaces for data analysis."
   ]
  },
  {
   "cell_type": "markdown",
   "metadata": {},
   "source": [
    "Reproducing kernel Hilbert spaces (RKHS's, or, as I say it, \"ruckuses\") form the mathematical bedrock of numerous machine learning techniques, from support vector machines and Gaussian processes to neural tangent kernels and random feature embeddings. \n",
    "\n",
    "The classes and methods defined in this package are meant to be compatible with other popular machine learning APIs, in particular `scikit-learn`. The core object of the package is the `RKHS` class. An `RKHS` can be `fit` to data, can `transform` data by embedding it in the Hilbert space coordinates and can `fit_function`s using kernel ridge regression. Averaging kernel embeddings over a sample of data points yields the kernel mean embedding of the data's distribution, and the `KernelHerd` object can be applied to these embeddings to sample data using the kernel herding algorithm. \n",
    "\n",
    "Specific `RKHS` implementations included are:\n",
    "\n",
    "1. `EigenRKHS` which uses a singular value decomposition of a specified kernel matrix to construct the embedding;\n",
    "2. `RandomFourierRBF` which uses Gaussian-sampled Fourier phase terms to construct embedding vectors;\n",
    "3. `OneHotRKHS` which embeds categorical data in probability space.\n",
    "\n",
    "Further, `RKHS` instances can be composed into networks by use of the classes:\n",
    "\n",
    "1. `CompositeRKHS` which allows for the function composition of embeddings to produce pipelines and deep kernels;\n",
    "2. `ProductRKHS` which allows for Hilbert spaces with tensor product structure, and includes methods for performing conditional density embeddings across factor spaces;\n",
    "3. `DirectSumRKHS` which allows for stacking RKHS embeddings along a concatenated axis,\n",
    "4. `ConvolutionalRKHS` which allows for using any RKHS as a convolutional filter on `n`-D data.\n",
    "\n",
    "On top of this, several helper functions and classes are included to provide compatibility with cross-validation and model selection via `scikit-learn`."
   ]
  },
  {
   "cell_type": "markdown",
   "metadata": {},
   "source": [
    "# Installation"
   ]
  },
  {
   "cell_type": "markdown",
   "metadata": {},
   "source": [
    "To install from `pip`, run\n",
    "\n",
    "```\n",
    ">>> pip install ruckus\n",
    "```\n",
    "\n",
    "To build from source, you can either download the \n",
    "[zip](https://github.com/samlikesphysics/ruckus/archive/main.zip) \n",
    "or [tarball](https://github.com/samlikesphysics/ruckus/tarball/main) directly, \n",
    "or clone the GitHub repository via\n",
    "\n",
    "```\n",
    ">>> git clone https://github.com/samlikesphysics/ruckus.git\n",
    "```\n",
    "\n",
    "Then run in the the same folder as `setup.py`:\n",
    "\n",
    "```\n",
    ">>> python setup.py build\n",
    ">>> python -m pip install .\n",
    "```"
   ]
  },
  {
   "cell_type": "markdown",
   "metadata": {},
   "source": [
    "# Dependencies"
   ]
  },
  {
   "cell_type": "markdown",
   "metadata": {},
   "source": [
    "`ruckus` depends on the following packages:\n",
    "\n",
    "|  Package  | Recommended version |\n",
    "| --------- | ------------------- |\n",
    "| `numpy`   | 1.20.1              |\n",
    "| `scipy`   | 1.7.0               |\n",
    "| `sklearn` | 1.0.1               |"
   ]
  },
  {
   "cell_type": "markdown",
   "metadata": {},
   "source": [
    "# Example"
   ]
  },
  {
   "cell_type": "markdown",
   "metadata": {},
   "source": [
    "Let us generate a dataset of the evolution of the Lorenz attractor:"
   ]
  },
  {
   "cell_type": "code",
   "execution_count": 4,
   "metadata": {},
   "outputs": [],
   "source": [
    "import ruckus\n",
    "import numpy as np\n",
    "import matplotlib.pyplot as plt\n",
    "\n",
    "def lorenz(n=100,s=10, r=28, b=2.667, dt=0.01):\n",
    "    xs = np.empty(n + 1)\n",
    "    ys = np.empty(n + 1)\n",
    "    zs = np.empty(n + 1)\n",
    "    xs[0], ys[0], zs[0] = (0., 1., 1.05)\n",
    "    for i in range(1,n+1):\n",
    "        xs[i] = xs[i-1] + (s*(ys[i-1] - xs[i-1]))*dt\n",
    "        ys[i] = ys[i-1] + (r*xs[i-1] - ys[i-1] - xs[i-1]*zs[i-1])*dt\n",
    "        zs[i] = zs[i-1] + (xs[i-1]*ys[i-1] - b*zs[i-1])*dt\n",
    "    return np.concatenate([xs[None,:],ys[None,:],zs[None,:]]).T\n",
    "\n",
    "X = lorenz(10000)"
   ]
  },
  {
   "cell_type": "markdown",
   "metadata": {},
   "source": [
    "We wish to learn how any window of $10$ timesteps may be predicted from the preceding $2$ timesteps. To do this, we would set up a convolutional filter which takes blocks of length $12$, and uses an RKHS to embed the length-2 past blocks and length-10 future blocks separately. We could use these embeddings in a product space to learn their joint distribution and compute the conditional distribution of the future window, conditioned on the past window. This can be done using the simple code:"
   ]
  },
  {
   "cell_type": "code",
   "execution_count": 5,
   "metadata": {},
   "outputs": [],
   "source": [
    "Lp = 2\n",
    "Lf = 10\n",
    "beta=0.5\n",
    "\n",
    "conv_net = ruckus.convolution.ConvolutionalRKHS(\n",
    "    # Convolution window includes past and future\n",
    "    window_shape=(Lp+Lf,),\n",
    "    # Setup filter RKHS\n",
    "    rkhs=ruckus.ProductRKHS([\n",
    "        # Use Random Fourier Features\n",
    "        ruckus.RandomFourierRBF(\n",
    "            gamma=0.1,n_components=1024,\n",
    "            # Take all 3 variables and past Lp timesteps\n",
    "            take=(np.array([[0],[1],[2]]),\n",
    "                    np.array([list(range(Lp))])),\n",
    "            # Exponentially punish further-past points\n",
    "            filter=np.array([[beta**k for k in range(Lp)][::-1]]*3),\n",
    "            copy_X=False\n",
    "        ),\n",
    "        # Use Random Fourier Features\n",
    "        ruckus.RandomFourierRBF(\n",
    "            gamma=0.1,n_components=1024,\n",
    "            # Take all 3 variables and future Lf timesteps\n",
    "            take=(np.array([[0],[1],[2]]),\n",
    "                    np.array([list(range(Lp,Lp+Lf))])),\n",
    "            # Exponentially punish further-future points\n",
    "            filter=np.array([[beta**k for k in range(Lf)]]*3),\n",
    "            copy_X=False\n",
    "        ),\n",
    "    ],copy_X=False)\n",
    ")\n",
    "\n",
    "# Fit convolutional kernel network on data\n",
    "conv_net.fit(X)\n",
    "\n",
    "# Extract conditional distribution\n",
    "conditional_map, future_space = conv_net.rkhs.conditional([0],[1],alpha=1e-6)"
   ]
  },
  {
   "cell_type": "markdown",
   "metadata": {},
   "source": [
    "Let's judge our work: for any time index `j` we can take the preceding two timesteps, use `conditional_map` to predict the embedding of the future ten timesteps, and generate forecasts using `KernelHerd`."
   ]
  },
  {
   "cell_type": "code",
   "execution_count": 6,
   "metadata": {},
   "outputs": [
    {
     "data": {
      "image/png": "[encoded data removed]",
      "text/plain": [
       "<Figure size 640x480 with 1 Axes>"
      ]
     },
     "metadata": {},
     "output_type": "display_data"
    }
   ],
   "source": [
    "j = 750\n",
    "dt = 0.01\n",
    "rng = [j-25,j+25]\n",
    "n_samples = 100\n",
    "colors = ['r','b','g']\n",
    "names = [r'$x$',r'$y$',r'$z$']\n",
    "\n",
    "for k in range(3):\n",
    "    plt.plot(np.arange(rng[0],rng[1])*dt,X[rng[0]:rng[1],k],alpha=0.5,c=colors[k],label=names[k])\n",
    "    plt.plot(np.arange(j-Lp+1,j+1)*dt,X[j-Lp+1:j+1,k],c='k',linewidth=5,alpha=0.5)\n",
    "\n",
    "samples = np.array(list(ruckus.sampling.KernelHerd(\n",
    "    conditional_map.predict(X[j-Lp+1:j+Lf+1,].T[None])[0],\n",
    "    future_space,\n",
    "    size=n_samples\n",
    ")))\n",
    "\n",
    "for s in samples:\n",
    "    for k in range(3):\n",
    "        plt.plot(np.arange(j+1,j+Lf+1)*dt,list(s[k][Lp:]),alpha=0.1,c='orange')\n",
    "\n",
    "plt.ylabel(r'Lorenz variables $x$, $y$, $z$')\n",
    "plt.xlabel(r'Time $t$')\n",
    "plt.legend()\n",
    "plt.savefig('Lorenz.png')\n",
    "plt.show()"
   ]
  },
  {
   "cell_type": "markdown",
   "metadata": {},
   "source": [
    "Naturally, this is not quite the best way to \"learn\" the Lorenz attractor; better methods would use our conditional embeddings to extract information about the dynamical system and then use *that* knowledge to make forecasts. This can also be done using the tools in `ruckus` - but is left as an exercise to the reader!"
   ]
  }
 ],
 "metadata": {
  "interpreter": {
   "hash": "045077cf78d61d0825f6aea4fea4e596fd06f4af0910569b84c372771825611c"
  },
  "kernelspec": {
   "display_name": "Python 3.7.9 64-bit ('py37': conda)",
   "language": "python",
   "name": "python3"
  },
  "language_info": {
   "codemirror_mode": {
    "name": "ipython",
    "version": 3
   },
   "file_extension": ".py",
   "mimetype": "text/x-python",
   "name": "python",
   "nbconvert_exporter": "python",
   "pygments_lexer": "ipython3",
   "version": "3.7.9"
  },
  "orig_nbformat": 4
 },
 "nbformat": 4,
 "nbformat_minor": 2
}
